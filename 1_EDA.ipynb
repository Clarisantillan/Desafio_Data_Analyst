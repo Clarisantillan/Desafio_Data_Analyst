{
  "nbformat": 4,
  "nbformat_minor": 0,
  "metadata": {
    "colab": {
      "provenance": []
    },
    "kernelspec": {
      "name": "python3",
      "display_name": "Python 3"
    },
    "language_info": {
      "name": "python"
    }
  },
  "cells": [
    {
      "cell_type": "markdown",
      "source": [
        "\n",
        "Desafío 1: Análisis Exploratorio de Datos (EDA)\n",
        "\n",
        "Descripción del problema:\n",
        "\n",
        "Ha recibido un conjunto de datos que contiene información sobre las ventas de productos en una tienda durante un período de tiempo. El conjunto de datos contiene las siguientes columnas:\n",
        "\n",
        "- Fecha: La fecha de la venta.\n",
        "- Producto: El nombre del producto vendido.\n",
        "- Cantidad: La cantidad de productos vendidos ese día.\n",
        "- Precio Unitario: El precio unitario de cada producto.\n",
        "- Total: El total de ventas para ese día.\n",
        "Tu tarea es realizar un análisis exploratorio de estos datos para comprender mejor las tendencias de ventas. Algunas de las preguntas que debes responder incluyen:\n",
        "\n",
        "¿Cuál es la cantidad total de productos vendidos durante el período de tiempo?\n",
        "¿Cuál es el total de ventas durante el período de tiempo?\n",
        "¿Cuál es el producto más vendido?\n",
        "¿Cuál es el día con las ventas más altas?\n",
        "¿Puedes identificar alguna tendencia en las ventas a lo largo del tiempo?\n",
        "Asegúrate de presentar tus resultados en forma de visualizaciones y estadísticas descriptivas.\n",
        "---\n",
        "\n"
      ],
      "metadata": {
        "id": "KxZm_c1gexV0"
      }
    },
    {
      "cell_type": "code",
      "execution_count": 2,
      "metadata": {
        "colab": {
          "base_uri": "https://localhost:8080/"
        },
        "id": "C1J5CurLenzE",
        "outputId": "b5b9ac7b-997f-40ed-d7f3-80362e1015bd"
      },
      "outputs": [
        {
          "output_type": "stream",
          "name": "stdout",
          "text": [
            "       Fecha    Producto  Cantidad  Precio Unitario    Total\n",
            "0 2023-01-01  Producto B        19            68.15  1294.85\n",
            "1 2023-01-02  Producto A        44            51.79  2278.76\n",
            "2 2023-01-03  Producto B        43            90.38  3886.34\n",
            "3 2023-01-04  Producto B        17            74.00  1258.00\n",
            "4 2023-01-05  Producto C        23            34.69   797.87\n"
          ]
        }
      ],
      "source": [
        "import pandas as pd\n",
        "import numpy as np\n",
        "\n",
        "# Cantidad de filas del conjunto de datos ficticios\n",
        "num_filas = 100\n",
        "\n",
        "# Datos\n",
        "fechas = pd.date_range(start='2023-01-01', periods=num_filas, freq='D')\n",
        "productos = np.random.choice(['Producto A', 'Producto B', 'Producto C'], num_filas)\n",
        "cantidades = np.random.randint(1, 50, num_filas)\n",
        "precios_unitarios = np.random.uniform(10, 100, num_filas).round(2)\n",
        "total_ventas = cantidades * precios_unitarios\n",
        "\n",
        "# Creo el DataFrame con los datos ficticios\n",
        "data = {\n",
        "    'Fecha': fechas,\n",
        "    'Producto': productos,\n",
        "    'Cantidad': cantidades,\n",
        "    'Precio Unitario': precios_unitarios,\n",
        "    'Total': total_ventas\n",
        "}\n",
        "\n",
        "df = pd.DataFrame(data)\n",
        "\n",
        "#Prmeras filas del DF\n",
        "print(df.head())\n"
      ]
    },
    {
      "cell_type": "code",
      "source": [
        "df.describe()#estadisticas descriptivas"
      ],
      "metadata": {
        "colab": {
          "base_uri": "https://localhost:8080/",
          "height": 300
        },
        "id": "89OpgA3N0Vyw",
        "outputId": "c84e7ef6-3c2d-4104-fa05-e511e8a70489"
      },
      "execution_count": 3,
      "outputs": [
        {
          "output_type": "execute_result",
          "data": {
            "text/plain": [
              "         Cantidad  Precio Unitario        Total\n",
              "count  100.000000       100.000000   100.000000\n",
              "mean    25.110000        53.932900  1301.715100\n",
              "std     13.986931        26.586331   981.287649\n",
              "min      1.000000        10.030000    22.490000\n",
              "25%     13.750000        31.970000   477.397500\n",
              "50%     25.000000        57.980000  1096.505000\n",
              "75%     38.000000        75.167500  1937.485000\n",
              "max     49.000000        99.610000  3886.340000"
            ],
            "text/html": [
              "\n",
              "  <div id=\"df-cc680729-ab41-4370-82e4-fc4dfc9da248\" class=\"colab-df-container\">\n",
              "    <div>\n",
              "<style scoped>\n",
              "    .dataframe tbody tr th:only-of-type {\n",
              "        vertical-align: middle;\n",
              "    }\n",
              "\n",
              "    .dataframe tbody tr th {\n",
              "        vertical-align: top;\n",
              "    }\n",
              "\n",
              "    .dataframe thead th {\n",
              "        text-align: right;\n",
              "    }\n",
              "</style>\n",
              "<table border=\"1\" class=\"dataframe\">\n",
              "  <thead>\n",
              "    <tr style=\"text-align: right;\">\n",
              "      <th></th>\n",
              "      <th>Cantidad</th>\n",
              "      <th>Precio Unitario</th>\n",
              "      <th>Total</th>\n",
              "    </tr>\n",
              "  </thead>\n",
              "  <tbody>\n",
              "    <tr>\n",
              "      <th>count</th>\n",
              "      <td>100.000000</td>\n",
              "      <td>100.000000</td>\n",
              "      <td>100.000000</td>\n",
              "    </tr>\n",
              "    <tr>\n",
              "      <th>mean</th>\n",
              "      <td>25.110000</td>\n",
              "      <td>53.932900</td>\n",
              "      <td>1301.715100</td>\n",
              "    </tr>\n",
              "    <tr>\n",
              "      <th>std</th>\n",
              "      <td>13.986931</td>\n",
              "      <td>26.586331</td>\n",
              "      <td>981.287649</td>\n",
              "    </tr>\n",
              "    <tr>\n",
              "      <th>min</th>\n",
              "      <td>1.000000</td>\n",
              "      <td>10.030000</td>\n",
              "      <td>22.490000</td>\n",
              "    </tr>\n",
              "    <tr>\n",
              "      <th>25%</th>\n",
              "      <td>13.750000</td>\n",
              "      <td>31.970000</td>\n",
              "      <td>477.397500</td>\n",
              "    </tr>\n",
              "    <tr>\n",
              "      <th>50%</th>\n",
              "      <td>25.000000</td>\n",
              "      <td>57.980000</td>\n",
              "      <td>1096.505000</td>\n",
              "    </tr>\n",
              "    <tr>\n",
              "      <th>75%</th>\n",
              "      <td>38.000000</td>\n",
              "      <td>75.167500</td>\n",
              "      <td>1937.485000</td>\n",
              "    </tr>\n",
              "    <tr>\n",
              "      <th>max</th>\n",
              "      <td>49.000000</td>\n",
              "      <td>99.610000</td>\n",
              "      <td>3886.340000</td>\n",
              "    </tr>\n",
              "  </tbody>\n",
              "</table>\n",
              "</div>\n",
              "    <div class=\"colab-df-buttons\">\n",
              "\n",
              "  <div class=\"colab-df-container\">\n",
              "    <button class=\"colab-df-convert\" onclick=\"convertToInteractive('df-cc680729-ab41-4370-82e4-fc4dfc9da248')\"\n",
              "            title=\"Convert this dataframe to an interactive table.\"\n",
              "            style=\"display:none;\">\n",
              "\n",
              "  <svg xmlns=\"http://www.w3.org/2000/svg\" height=\"24px\" viewBox=\"0 -960 960 960\">\n",
              "    <path d=\"M120-120v-720h720v720H120Zm60-500h600v-160H180v160Zm220 220h160v-160H400v160Zm0 220h160v-160H400v160ZM180-400h160v-160H180v160Zm440 0h160v-160H620v160ZM180-180h160v-160H180v160Zm440 0h160v-160H620v160Z\"/>\n",
              "  </svg>\n",
              "    </button>\n",
              "\n",
              "  <style>\n",
              "    .colab-df-container {\n",
              "      display:flex;\n",
              "      gap: 12px;\n",
              "    }\n",
              "\n",
              "    .colab-df-convert {\n",
              "      background-color: #E8F0FE;\n",
              "      border: none;\n",
              "      border-radius: 50%;\n",
              "      cursor: pointer;\n",
              "      display: none;\n",
              "      fill: #1967D2;\n",
              "      height: 32px;\n",
              "      padding: 0 0 0 0;\n",
              "      width: 32px;\n",
              "    }\n",
              "\n",
              "    .colab-df-convert:hover {\n",
              "      background-color: #E2EBFA;\n",
              "      box-shadow: 0px 1px 2px rgba(60, 64, 67, 0.3), 0px 1px 3px 1px rgba(60, 64, 67, 0.15);\n",
              "      fill: #174EA6;\n",
              "    }\n",
              "\n",
              "    .colab-df-buttons div {\n",
              "      margin-bottom: 4px;\n",
              "    }\n",
              "\n",
              "    [theme=dark] .colab-df-convert {\n",
              "      background-color: #3B4455;\n",
              "      fill: #D2E3FC;\n",
              "    }\n",
              "\n",
              "    [theme=dark] .colab-df-convert:hover {\n",
              "      background-color: #434B5C;\n",
              "      box-shadow: 0px 1px 3px 1px rgba(0, 0, 0, 0.15);\n",
              "      filter: drop-shadow(0px 1px 2px rgba(0, 0, 0, 0.3));\n",
              "      fill: #FFFFFF;\n",
              "    }\n",
              "  </style>\n",
              "\n",
              "    <script>\n",
              "      const buttonEl =\n",
              "        document.querySelector('#df-cc680729-ab41-4370-82e4-fc4dfc9da248 button.colab-df-convert');\n",
              "      buttonEl.style.display =\n",
              "        google.colab.kernel.accessAllowed ? 'block' : 'none';\n",
              "\n",
              "      async function convertToInteractive(key) {\n",
              "        const element = document.querySelector('#df-cc680729-ab41-4370-82e4-fc4dfc9da248');\n",
              "        const dataTable =\n",
              "          await google.colab.kernel.invokeFunction('convertToInteractive',\n",
              "                                                    [key], {});\n",
              "        if (!dataTable) return;\n",
              "\n",
              "        const docLinkHtml = 'Like what you see? Visit the ' +\n",
              "          '<a target=\"_blank\" href=https://colab.research.google.com/notebooks/data_table.ipynb>data table notebook</a>'\n",
              "          + ' to learn more about interactive tables.';\n",
              "        element.innerHTML = '';\n",
              "        dataTable['output_type'] = 'display_data';\n",
              "        await google.colab.output.renderOutput(dataTable, element);\n",
              "        const docLink = document.createElement('div');\n",
              "        docLink.innerHTML = docLinkHtml;\n",
              "        element.appendChild(docLink);\n",
              "      }\n",
              "    </script>\n",
              "  </div>\n",
              "\n",
              "\n",
              "<div id=\"df-2c1e32a1-a862-4614-a2ef-191f04ce6081\">\n",
              "  <button class=\"colab-df-quickchart\" onclick=\"quickchart('df-2c1e32a1-a862-4614-a2ef-191f04ce6081')\"\n",
              "            title=\"Suggest charts.\"\n",
              "            style=\"display:none;\">\n",
              "\n",
              "<svg xmlns=\"http://www.w3.org/2000/svg\" height=\"24px\"viewBox=\"0 0 24 24\"\n",
              "     width=\"24px\">\n",
              "    <g>\n",
              "        <path d=\"M19 3H5c-1.1 0-2 .9-2 2v14c0 1.1.9 2 2 2h14c1.1 0 2-.9 2-2V5c0-1.1-.9-2-2-2zM9 17H7v-7h2v7zm4 0h-2V7h2v10zm4 0h-2v-4h2v4z\"/>\n",
              "    </g>\n",
              "</svg>\n",
              "  </button>\n",
              "\n",
              "<style>\n",
              "  .colab-df-quickchart {\n",
              "      --bg-color: #E8F0FE;\n",
              "      --fill-color: #1967D2;\n",
              "      --hover-bg-color: #E2EBFA;\n",
              "      --hover-fill-color: #174EA6;\n",
              "      --disabled-fill-color: #AAA;\n",
              "      --disabled-bg-color: #DDD;\n",
              "  }\n",
              "\n",
              "  [theme=dark] .colab-df-quickchart {\n",
              "      --bg-color: #3B4455;\n",
              "      --fill-color: #D2E3FC;\n",
              "      --hover-bg-color: #434B5C;\n",
              "      --hover-fill-color: #FFFFFF;\n",
              "      --disabled-bg-color: #3B4455;\n",
              "      --disabled-fill-color: #666;\n",
              "  }\n",
              "\n",
              "  .colab-df-quickchart {\n",
              "    background-color: var(--bg-color);\n",
              "    border: none;\n",
              "    border-radius: 50%;\n",
              "    cursor: pointer;\n",
              "    display: none;\n",
              "    fill: var(--fill-color);\n",
              "    height: 32px;\n",
              "    padding: 0;\n",
              "    width: 32px;\n",
              "  }\n",
              "\n",
              "  .colab-df-quickchart:hover {\n",
              "    background-color: var(--hover-bg-color);\n",
              "    box-shadow: 0 1px 2px rgba(60, 64, 67, 0.3), 0 1px 3px 1px rgba(60, 64, 67, 0.15);\n",
              "    fill: var(--button-hover-fill-color);\n",
              "  }\n",
              "\n",
              "  .colab-df-quickchart-complete:disabled,\n",
              "  .colab-df-quickchart-complete:disabled:hover {\n",
              "    background-color: var(--disabled-bg-color);\n",
              "    fill: var(--disabled-fill-color);\n",
              "    box-shadow: none;\n",
              "  }\n",
              "\n",
              "  .colab-df-spinner {\n",
              "    border: 2px solid var(--fill-color);\n",
              "    border-color: transparent;\n",
              "    border-bottom-color: var(--fill-color);\n",
              "    animation:\n",
              "      spin 1s steps(1) infinite;\n",
              "  }\n",
              "\n",
              "  @keyframes spin {\n",
              "    0% {\n",
              "      border-color: transparent;\n",
              "      border-bottom-color: var(--fill-color);\n",
              "      border-left-color: var(--fill-color);\n",
              "    }\n",
              "    20% {\n",
              "      border-color: transparent;\n",
              "      border-left-color: var(--fill-color);\n",
              "      border-top-color: var(--fill-color);\n",
              "    }\n",
              "    30% {\n",
              "      border-color: transparent;\n",
              "      border-left-color: var(--fill-color);\n",
              "      border-top-color: var(--fill-color);\n",
              "      border-right-color: var(--fill-color);\n",
              "    }\n",
              "    40% {\n",
              "      border-color: transparent;\n",
              "      border-right-color: var(--fill-color);\n",
              "      border-top-color: var(--fill-color);\n",
              "    }\n",
              "    60% {\n",
              "      border-color: transparent;\n",
              "      border-right-color: var(--fill-color);\n",
              "    }\n",
              "    80% {\n",
              "      border-color: transparent;\n",
              "      border-right-color: var(--fill-color);\n",
              "      border-bottom-color: var(--fill-color);\n",
              "    }\n",
              "    90% {\n",
              "      border-color: transparent;\n",
              "      border-bottom-color: var(--fill-color);\n",
              "    }\n",
              "  }\n",
              "</style>\n",
              "\n",
              "  <script>\n",
              "    async function quickchart(key) {\n",
              "      const quickchartButtonEl =\n",
              "        document.querySelector('#' + key + ' button');\n",
              "      quickchartButtonEl.disabled = true;  // To prevent multiple clicks.\n",
              "      quickchartButtonEl.classList.add('colab-df-spinner');\n",
              "      try {\n",
              "        const charts = await google.colab.kernel.invokeFunction(\n",
              "            'suggestCharts', [key], {});\n",
              "      } catch (error) {\n",
              "        console.error('Error during call to suggestCharts:', error);\n",
              "      }\n",
              "      quickchartButtonEl.classList.remove('colab-df-spinner');\n",
              "      quickchartButtonEl.classList.add('colab-df-quickchart-complete');\n",
              "    }\n",
              "    (() => {\n",
              "      let quickchartButtonEl =\n",
              "        document.querySelector('#df-2c1e32a1-a862-4614-a2ef-191f04ce6081 button');\n",
              "      quickchartButtonEl.style.display =\n",
              "        google.colab.kernel.accessAllowed ? 'block' : 'none';\n",
              "    })();\n",
              "  </script>\n",
              "</div>\n",
              "    </div>\n",
              "  </div>\n"
            ]
          },
          "metadata": {},
          "execution_count": 3
        }
      ]
    },
    {
      "cell_type": "markdown",
      "source": [
        "## ¿Cuál es la cantidad total de productos vendidos durante el período de tiempo#"
      ],
      "metadata": {
        "id": "061GNjhVfQ8p"
      }
    },
    {
      "cell_type": "code",
      "source": [
        "cantidad=df['Cantidad'].sum()\n",
        "print('La cantidad de productos vendidos es:', cantidad)"
      ],
      "metadata": {
        "colab": {
          "base_uri": "https://localhost:8080/"
        },
        "id": "Vh7R9XuRfCCA",
        "outputId": "0de28ed5-10c6-4147-c881-b800197ecc50"
      },
      "execution_count": 4,
      "outputs": [
        {
          "output_type": "stream",
          "name": "stdout",
          "text": [
            "La cantidad de productos vendidos es: 2511\n"
          ]
        }
      ]
    },
    {
      "cell_type": "markdown",
      "source": [
        "###  ¿Cuál es el total de ventas durante el período de tiempo?"
      ],
      "metadata": {
        "id": "lXWee4xZfV4Q"
      }
    },
    {
      "cell_type": "code",
      "source": [
        "total_ventas= df.shape\n",
        "print('Total de ventas:', total_ventas[0])"
      ],
      "metadata": {
        "colab": {
          "base_uri": "https://localhost:8080/"
        },
        "id": "WVjheEW_faXQ",
        "outputId": "8d905a62-e245-4796-e611-680ca4c20915"
      },
      "execution_count": 6,
      "outputs": [
        {
          "output_type": "stream",
          "name": "stdout",
          "text": [
            "Total de ventas: 100\n"
          ]
        }
      ]
    },
    {
      "cell_type": "markdown",
      "source": [
        " ¿Cuál es el producto más vendido?"
      ],
      "metadata": {
        "id": "lgh3oJvFfc2k"
      }
    },
    {
      "cell_type": "code",
      "source": [
        "prod = df.groupby('Producto')['Cantidad'].sum()\n",
        "print(prod)   #el producto mas vendido fue el 'B'"
      ],
      "metadata": {
        "colab": {
          "base_uri": "https://localhost:8080/"
        },
        "id": "l89l7llAZ8-p",
        "outputId": "53f38d8b-1b89-4a51-8011-2c230df75ec1"
      },
      "execution_count": 14,
      "outputs": [
        {
          "output_type": "stream",
          "name": "stdout",
          "text": [
            "Producto\n",
            "Producto A     923\n",
            "Producto B    1068\n",
            "Producto C     520\n",
            "Name: Cantidad, dtype: int64\n"
          ]
        }
      ]
    },
    {
      "cell_type": "markdown",
      "source": [
        "###  ¿Cuál es el día con las ventas más altas?"
      ],
      "metadata": {
        "id": "YQXWKUiigL2g"
      }
    },
    {
      "cell_type": "code",
      "source": [
        "max_total = df['Total'].max()\n",
        "fecha_max_total = df.loc[df['Total'] == max_total, 'Fecha'].values[0]\n",
        "\n",
        "print(\"Fecha en que hubo el máximo total de ventas:\", fecha_max_total)\n",
        "\n"
      ],
      "metadata": {
        "colab": {
          "base_uri": "https://localhost:8080/"
        },
        "id": "Ptd4bQ-vgNlB",
        "outputId": "0ab184cc-aad1-4a10-e1ed-e4bfb15c8af6"
      },
      "execution_count": 15,
      "outputs": [
        {
          "output_type": "stream",
          "name": "stdout",
          "text": [
            "Fecha en que hubo el máximo total de ventas: 2023-01-03T00:00:00.000000000\n"
          ]
        }
      ]
    },
    {
      "cell_type": "markdown",
      "source": [
        "### ¿Puedes identificar alguna tendencia en las ventas a lo largo del tiempo?"
      ],
      "metadata": {
        "id": "8rEd7iNjhYaG"
      }
    },
    {
      "cell_type": "code",
      "source": [
        "import matplotlib.pyplot as plt\n",
        "\n",
        "meses = df['Fecha'].dt.month\n",
        "total_por_mes = df.groupby(meses)['Cantidad'].sum()\n",
        "\n",
        "# Garfico de barras\n",
        "plt.bar(total_por_mes.index, total_por_mes.values, label='Cantidad Total de Ventas por Mes')\n",
        "\n",
        "# L que conecta los puntos\n",
        "plt.plot(total_por_mes.index, total_por_mes.values, marker='o', color='red', label='Línea de Tendencia')\n",
        "\n",
        "# Etiquetas de los ejes y título\n",
        "plt.xlabel('Mes')\n",
        "plt.ylabel('Cantidad Total de Ventas')\n",
        "plt.title('Cantidad Total de Ventas por Mes con Línea de Tendencia')\n",
        "\n",
        "\n",
        "plt.xticks(range(1, 13), ['Ene', 'Feb', 'Mar', 'Abr', 'May', 'Jun', 'Jul', 'Ago', 'Sep', 'Oct', 'Nov', 'Dic'])\n",
        "plt.legend()\n",
        "plt.show()\n"
      ],
      "metadata": {
        "colab": {
          "base_uri": "https://localhost:8080/",
          "height": 472
        },
        "id": "s0JBH3gxwECB",
        "outputId": "40c92d8d-a156-4adc-e473-af6efceebbec"
      },
      "execution_count": null,
      "outputs": [
        {
          "output_type": "display_data",
          "data": {
            "text/plain": [
              "<Figure size 640x480 with 1 Axes>"
            ],
            "image/png": "[encoded data removed]"
          },
          "metadata": {}
        }
      ]
    },
    {
      "cell_type": "markdown",
      "source": [
        "## Sí, según la representación gráfica, se observa una tendencia decreciente en la cantidad total de ventas a lo largo del tiempo. La línea de tendencia muestra una pendiente negativa, lo que indica que las ventas están disminuyendo a medida que avanza el tiempo. Esto sugiere que hay una tendencia a la baja en las ventas a lo largo del período representado en los datos."
      ],
      "metadata": {
        "id": "roXPIK4LwnGi"
      }
    },
    {
      "cell_type": "code",
      "source": [
        "producto_totales = df.groupby(\"Producto\")[\"Total\"].sum().reset_index()\n",
        "\n",
        "plt.figure(figsize=(8, 6))\n",
        "plt.bar(producto_totales[\"Producto\"], producto_totales[\"Total\"])\n",
        "plt.title(\"Total de Ventas por Producto\")\n",
        "plt.xlabel(\"Producto\")\n",
        "plt.ylabel(\"Total\")\n",
        "plt.show()\n"
      ],
      "metadata": {
        "colab": {
          "base_uri": "https://localhost:8080/",
          "height": 564
        },
        "id": "xkGkedCAxGl4",
        "outputId": "6c7d029e-08e2-4b43-998c-6b831037eef8"
      },
      "execution_count": null,
      "outputs": [
        {
          "output_type": "display_data",
          "data": {
            "text/plain": [
              "<Figure size 800x600 with 1 Axes>"
            ],
            "image/png": "[encoded data removed]"
          },
          "metadata": {}
        }
      ]
    }
  ]
}